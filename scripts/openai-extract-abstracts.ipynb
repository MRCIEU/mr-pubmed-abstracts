{
 "cells": [
  {
   "cell_type": "code",
   "execution_count": 1,
   "id": "8059b31d",
   "metadata": {},
   "outputs": [],
   "source": [
    "from openai import OpenAI\n",
    "import json\n",
    "import os\n",
    "import dotenv"
   ]
  },
  {
   "cell_type": "code",
   "execution_count": 3,
   "id": "09f7320c",
   "metadata": {},
   "outputs": [
    {
     "data": {
      "text/plain": [
       "<openai.OpenAI at 0x1097ab650>"
      ]
     },
     "execution_count": 3,
     "metadata": {},
     "output_type": "execute_result"
    }
   ],
   "source": [
    "dotenv.load_dotenv()\n",
    "client = OpenAI(api_key=os.environ.get(\"OPENAI_API_KEY\"))\n",
    "client"
   ]
  },
  {
   "cell_type": "code",
   "execution_count": null,
   "id": "de8efc2c",
   "metadata": {},
   "outputs": [],
   "source": [
    "abstract1 = {\"role\": \"user\", \"content\": \"Associations between modifiable exposures and disease seen in observational epidemiology are sometimes confounded and thus misleading, despite our best efforts to improve the design and analysis of studies. Mendelian randomization-the random assortment of genes from parents to offspring that occurs during gamete formation and conception-provides one method for assessing the causal nature of some environmental exposures. The association between a disease and a polymorphism that mimics the biological link between a proposed exposure and disease is not generally susceptible to the reverse causation or confounding that may distort interpretations of conventional observational studies. Several examples where the phenotypic effects of polymorphisms are well documented provide encouraging evidence of the explanatory power of Mendelian randomization and are described. The limitations of the approach include confounding by polymorphisms in linkage disequilibrium with the polymorphism under study, that polymorphisms may have several phenotypic effects associated with disease, the lack of suitable polymorphisms for studying modifiable exposures of interest, and canalization-the buffering of the effects of genetic variation during development. Nevertheless, Mendelian randomization provides new opportunities to test causality and demonstrates how investment in the human genome project may contribute to understanding and preventing the adverse effects on human health of modifiable exposures.\"}\n",
    "\n",
    "abstract2 = {\"role\": \"user\", \"content\": \"\"\"Background: Dysregulation of circulating metabolites may affect brain function and cognition, associated with alterations in the cerebral cortex architecture. However, the exact cause remains unclear. This study aimed to determine the causal effect of circulating metabolites on the cerebral cortex architecture.\n",
    "\n",
    "Methods: This study utilized retrieved data from genome-wide association studies to investigate the relationship between blood metabolites and cortical architecture. A total of 1,091 metabolites and 309 metabolite ratios were used for exposure. The brain cortex surface area and cortex thickness were selected as the primary outcomes in this study. In this study, the inverse variance weighting method was used as the main analytical method, complemented by sensitivity analyses that were more robust to pleiotropy. Furthermore, metabolic pathway analysis was performed via MetaboAnalyst 6.0. Finally, reverse Mendelian randomization (MR) analysis was conducted to assess the potential for reverse causation.\n",
    "\n",
    "Results: After correcting for the false discovery rate (FDR), we identified 37 metabolites and 9 metabolite ratios that showed significant causal associations with cortical structures. Among these, Oxalate was found to be most strongly associated with cortical surface area (β: 2387.532, 95% CI 756.570-4018.495, p = 0.037), while Tyrosine was most correlated with cortical thickness (β: -0.015, 95% CI -0.005 to -0.025, p = 0.025). Furthermore, pathway analysis based on metabolites identified six significant metabolic pathways associated with cortical structures and 13 significant metabolic pathways based on metabolite ratios.\n",
    "\n",
    "Conclusion: The identified metabolites and relevant metabolic pathways reveal potential therapeutic pathways for reducing the risk of neurodegenerative diseases. These findings will help guide health policies and clinical practice in treating neurodegenerative diseases.\n",
    "\n",
    "Keywords: Mendelian randomization; brain cortex surficial area; brain cortex thickness; genome-wide association studies; metabolites.\"\"\"}\n",
    "\n",
    "abstract3 = {\"role\": \"user\", \"content\": \"\"\"Background: The association between air pollution, lung function, gastroesophageal reflux disease, and Non-alcoholic fatty liver disease (NAFLD) remains inconclusive. Previous studies were not convincing due to confounding factors and reverse causality. We aim to investigate the causal relationship between air pollution, lung function, gastroesophageal reflux disease, and NAFLD using Mendelian randomization analysis.\n",
    "\n",
    "Methods: In this study, univariate Mendelian randomization analysis was conducted first. Subsequently, Steiger testing was performed to exclude the possibility of reverse association. Finally, significant risk factors identified from the univariate Mendelian analysis, as well as important factors affecting NAFLD from previous observational studies (type 2 diabetes and body mass index), were included in the multivariable Mendelian randomization analysis.\n",
    "\n",
    "Results: The results of the univariable Mendelian randomization analysis showed a positive correlation between particulate matter 2.5, gastroesophageal reflux disease, and NAFLD. There was a negative correlation between forced expiratory volume in 1 s, forced vital capacity, and NAFLD. The multivariable Mendelian randomization analysis indicated a direct causal relationship between gastroesophageal reflux disease (OR = 1.537, p = 0.011), type 2 diabetes (OR = 1.261, p < 0.001), and NAFLD.\n",
    "\n",
    "Conclusion: This Mendelian randomization study confirmed the causal relationships between air pollution, lung function, gastroesophageal reflux, and NAFLD. Furthermore, gastroesophageal reflux and type 2 diabetes were identified as independent risk factors for NAFLD, having a direct causal connection with the occurrence of NAFLD.\"\"\"}\n",
    "\n",
    "prompt = {\"role\": \"user\", \"content\": \"\"\"What are the exposures and outcomes in this abstract? If there are multiple exposures or outcomes, provide them all. If there are no exposures or outcomes, provide an empty list. Also categorize the exposures and outcomes into the following groups using the exact category names provided: \n",
    "- molecular\n",
    "- socioeconomic\n",
    "- environmental\n",
    "- behavioural\n",
    "- anthropometric\n",
    "- clinical measures\n",
    "- infectious disease\n",
    "- neoplasm\n",
    "- disease of the blood and blood-forming organs\n",
    "- metabolic disease\n",
    "- mental disorder\n",
    "- disease of the nervous system\n",
    "- disease of the eye and adnexa\n",
    "- disease of the ear and mastoid process\n",
    "- disease of the circulatory system\n",
    "- disease of the digestive system\n",
    "- disease of the skin and subcutaneous tissue\n",
    "- disease of the musculoskeletal system and connective tissue\n",
    "- disease of the genitourinary system\n",
    "If an exposure or outcome does not fit into any of these groups, specify \"Other\". \n",
    "List the analytical methods used in the abstract. Match the methods to the following list of exact method names. If a method is used that is not in the list, specify \"Other\" and also provide the name of the method. The list of methods is as follows:\n",
    "- two-sample mendelian randomization\n",
    "- multivariable mendelian randomization\n",
    "- colocalization\n",
    "- network mendelian randomization\n",
    "- triangulation\n",
    "- reverse mendelian randomization\n",
    "- one-sample mendelian randomization\n",
    "- negative controls\n",
    "- sensitivity analysis\n",
    "- non-linear mendelian randomization\n",
    "- within-family mendelian randomization\n",
    "Summarise how many null vs non-null results were found in the abstract.\n",
    "Provide your answer in strict json format using exactly the format as the example output and without markdown code blocks.\"\"\"}\n",
    "\n",
    "\n",
    "example_output = {\"role\": \"assistant\", \"content\": \"\"\"\n",
    "{\n",
    "  \"exposures\": [\n",
    "    {\n",
    "        \"id\": \"1\",\n",
    "        \"trait\": \"Particulate matter 2.5\",\n",
    "        \"category\": \"Environmental\"\n",
    "    },\n",
    "    {\n",
    "        \"id\": \"2\",\n",
    "        \"trait\": \"Type 2 diabetes\",\n",
    "        \"category\": \"metabolic disease\"\n",
    "    },\n",
    "    {\n",
    "        \"id\": \"3\",\n",
    "        \"trait\": \"Body mass index\",\n",
    "        \"category\": \"Anthropometric\"\n",
    "    }\n",
    "  ],\n",
    "  \"outcomes\": [\n",
    "    {\n",
    "        \"id\": \"1\",\n",
    "        \"trait\": \"Forced expiratory volume in 1 s\",\n",
    "        \"category\": \"Clinical measure\"\n",
    "    },\n",
    "    {\n",
    "        \"id\": \"2\",\n",
    "        \"trait\": \"Forced vital capacity\",\n",
    "        \"category\": \"Clinical measure\"\n",
    "    },\n",
    "    {\n",
    "        \"id\": \"3\",\n",
    "        \"trait\": \"Gastroesophageal reflux disease\",\n",
    "        \"category\": \"disease of the digestive system\"\n",
    "    },\n",
    "    {\n",
    "        \"id\": \"4\",\n",
    "        \"trait\": \"Non-alcoholic fatty liver disease (NAFLD)\",\n",
    "        \"category\": \"disease of the digestive system\"\n",
    "    }\n",
    "  ],\n",
    "  \"methods\": [\"two-sample mendelian randomization\", \"multivariable mendelian randomization\", \"colocalisation\", \"network mendelian randomization\"],\n",
    "  \"results\": {\n",
    "    \"null\": 0,\n",
    "    \"non-null\": 6\n",
    "  }\n",
    "}\n",
    "\"\"\"}\n",
    "\n",
    "abstract4 = {\"role\": \"user\", \"content\": \"\"\"Background: Epidemiological evidence links a close correlation between long-term exposure to air pollutants and autoimmune diseases, while the causality remained unknown.\n",
    "\n",
    "Methods: Two-sample Mendelian randomization (TSMR) was used to investigate the role of PM10, PM2.5, NO2, and NOX (N = 423,796-456,380) in 15 autoimmune diseases (N = 14,890-314,995) using data from large European GWASs including UKB, FINNGEN, IMSGC, and IPSCSG. Multivariable Mendelian randomization (MVMR) was conducted to investigate the direct effect of each air pollutant and the mediating role of common factors, including body mass index (BMI), alcohol consumption, smoking status, and household income. Transcriptome-wide association studies (TWAS), two-step MR, and colocalization analyses were performed to explore underlying mechanisms between air pollution and autoimmune diseases.\n",
    "\n",
    "Results: In TSMR, after correction of multiple testing, hypothyroidism was causally associated with higher exposure to NO2 [odds ratio (OR): 1.37, p = 9.08 × 10-4] and NOX [OR: 1.34, p = 2.86 × 10-3], ulcerative colitis (UC) was causally associated with higher exposure to NOX [OR: 2.24, p = 1.23 × 10-2] and PM2.5 [OR: 2.60, p = 5.96 × 10-3], rheumatoid arthritis was causally associated with higher exposure to NOX [OR: 1.72, p = 1.50 × 10-2], systemic lupus erythematosus was causally associated with higher exposure to NOX [OR: 4.92, p = 6.89 × 10-3], celiac disease was causally associated with lower exposure to NOX [OR: 0.14, p = 6.74 × 10-4] and PM2.5 [OR: 0.17, p = 3.18 × 10-3]. The risky effects of PM2.5 on UC remained significant in MVMR analyses after adjusting for other air pollutants. MVMR revealed several common mediators between air pollutants and autoimmune diseases. Transcriptional analysis identified specific gene transcripts and pathways interconnecting air pollutants and autoimmune diseases. Two-step MR revealed that POR, HSPA1B, and BRD2 might mediate from air pollutants to autoimmune diseases. POR pQTL (rs59882870, PPH4=1.00) strongly colocalized with autoimmune diseases.\n",
    "\n",
    "Conclusion: This research underscores the necessity of rigorous air pollutant surveillance within public health studies to curb the prevalence of autoimmune diseases.\"\"\"}\n",
    "\n",
    "\n",
    "abstract5 = {\"role\": \"user\", \"content\": \"\"\"Background: Circulating C-reactive protein (CRP) is associated with the metabolic syndrome and might be causally linked to it. Our aim was to generate estimates of the association between plasma CRP and metabolic syndrome phenotypes that were free from confounding and reverse causation, to assess the causal role of this protein.\n",
    "\n",
    "Methods: We examined associations between serum CRP concentration and metabolic syndrome phenotypes in the British Women's Heart and Health Study. We then compared these estimates with those derived from a mendelian randomised framework with common CRP gene haplotypes to generate unconfounded and unbiased estimates of any causal associations.\n",
    "\n",
    "Findings: In a sample of British women, body-mass index (BMI), systolic blood pressure, waist-to-hip ratio, serum concentrations of HDL cholesterol and triglycerides, and insulin resistance were all associated with plasma CRP concentration. CRP haplotypes were associated with plasma CRP concentration (p<0.0001). With instrumental variable analyses, there was no association between plasma CRP concentration and any of the metabolic syndrome phenotypes analysed. There was strong evidence that linear regression and mendelian randomisation based estimation gave conflicting results for the CRP-BMI association (p=0.0002), and some evidence of conflicting results for the association of CRP with the score for insulin resistance (p=0.0139), triglycerides (p=0.0313), and HDL cholesterol (p=0.0688).\n",
    "\n",
    "Interpretation: Disparity between estimates of the association between plasma CRP and phenotypes comprising the metabolic syndrome derived from conventional analyses and those from a mendelian randomisation approach suggests that there is no causal association between CRP and the metabolic syndrome phenotypes.\"\"\"}\n",
    "\n",
    "abstract6 = {\"role\": \"user\", \"content\": \"\"\"Background: Previous Mendelian randomization (MR) studies using population samples (population MR) have provided evidence for beneficial effects of educational attainment on health outcomes in adulthood. However, estimates from these studies may have been susceptible to bias from population stratification, assortative mating and indirect genetic effects due to unadjusted parental genotypes. MR using genetic association estimates derived from within-sibship models (within-sibship MR) can avoid these potential biases because genetic differences between siblings are due to random segregation at meiosis.\n",
    "\n",
    "Methods: Applying both population and within-sibship MR, we estimated the effects of genetic liability to educational attainment on body mass index (BMI), cigarette smoking, systolic blood pressure (SBP) and all-cause mortality. MR analyses used individual-level data on 72 932 siblings from UK Biobank and the Norwegian HUNT study, and summary-level data from a within-sibship Genome-wide Association Study including >140 000 individuals.\n",
    "\n",
    "Results: Both population and within-sibship MR estimates provided evidence that educational attainment decreased BMI, cigarette smoking and SBP. Genetic variant-outcome associations attenuated in the within-sibship model, but genetic variant-educational attainment associations also attenuated to a similar extent. Thus, within-sibship and population MR estimates were largely consistent. The within-sibship MR estimate of education on mortality was imprecise but consistent with a putative effect.\n",
    "\n",
    "Conclusions: These results provide evidence of beneficial individual-level effects of education (or liability to education) on adulthood health, independently of potential demographic and family-level confounders.\"\"\"}\n",
    "\n",
    "\n",
    "\n",
    "def openai_prompt(abstract, pmid):\n",
    "    response = client.chat.completions.create(\n",
    "        model=\"gpt-3.5-turbo\",\n",
    "            messages=[{\"role\": \"system\", \"content\": \"You are a helpful assistant.\"},\n",
    "                    abstract4,\n",
    "                    prompt,\n",
    "                    example_output,\n",
    "                    {\"role\": \"user\", \"content\": bytes(abstract, 'utf-8').decode('utf-8', 'ignore')},\n",
    "                    prompt],\n",
    "    )\n",
    "    o = json.loads(response.choices[0].message.content)\n",
    "    o['pmid'] = pmid\n",
    "    return o"
   ]
  },
  {
   "cell_type": "code",
   "execution_count": 5,
   "id": "2cc17882",
   "metadata": {},
   "outputs": [
    {
     "name": "stdout",
     "output_type": "stream",
     "text": [
      "{\n",
      "  \"exposures\": [\n",
      "    {\n",
      "      \"id\": \"1\",\n",
      "      \"trait\": \"Plasma CRP concentration\",\n",
      "      \"category\": \"Clinical measures\"\n",
      "    },\n",
      "    {\n",
      "      \"id\": \"2\",\n",
      "      \"trait\": \"CRP haplotypes\",\n",
      "      \"category\": \"Molecular\"\n",
      "    }\n",
      "  ],\n",
      "  \"outcomes\": [\n",
      "    {\n",
      "      \"id\": \"1\",\n",
      "      \"trait\": \"Metabolic syndrome phenotypes\",\n",
      "      \"category\": \"Metabolic disease\"\n",
      "    }\n",
      "  ],\n",
      "  \"methods\": [\n",
      "    \"Mendelian randomization\"\n",
      "  ],\n",
      "  \"results\": {\n",
      "    \"null\": 5,\n",
      "    \"non-null\": 1\n",
      "  },\n",
      "  \"pmid\": 12345678\n",
      "}\n"
     ]
    }
   ],
   "source": [
    "o = openai_prompt(abstract5['content'], 12345678)\n",
    "print(json.dumps(o, indent=2))\n"
   ]
  },
  {
   "cell_type": "code",
   "execution_count": 7,
   "id": "f4411b04",
   "metadata": {},
   "outputs": [
    {
     "data": {
      "text/plain": [
       "9999"
      ]
     },
     "execution_count": 7,
     "metadata": {},
     "output_type": "execute_result"
    }
   ],
   "source": [
    "with open(\"../data/pubmed_abstracts_20250502.json\") as f:\n",
    "    b = json.load(f)\n",
    "\n",
    "with open(\"../data/pubmed_authors.json\") as f:\n",
    "    authors = json.load(f)\n",
    "\n",
    "len(b)"
   ]
  },
  {
   "cell_type": "code",
   "execution_count": 9,
   "id": "fe5ce689",
   "metadata": {},
   "outputs": [
    {
     "data": {
      "text/plain": [
       "5412"
      ]
     },
     "execution_count": 9,
     "metadata": {},
     "output_type": "execute_result"
    }
   ],
   "source": [
    "# Remove entries in b that are already in authors\n",
    "b = [entry for entry in b if entry['pmid'] not in [a['pmid'] for a in authors]]\n",
    "len(b)"
   ]
  },
  {
   "cell_type": "code",
   "execution_count": 10,
   "id": "5e974355",
   "metadata": {},
   "outputs": [
    {
     "data": {
      "text/plain": [
       "{'pmid': '40313062',\n",
       " 'ab': \"BackgroundDNA damage and repair (DDR) and structural atrophies in different brain regions were recognized as critical factors in the onset of Alzheimer's disease (AD).ObjectiveWe utilized Mendelian randomization (MR) to examine the causal effects of the DDR-related molecular traits on AD and the potential mediating roles of different brain region volumes.MethodsIn primary analysis, we utilized public genome-wide association studies of AD and summary data from existing molecular traits datasets, including gene expression, DNA methylation, and protein levels quantitative trait loci (eQTL, mQTL, and pQTL) in both blood and brain to examine their causal associations by summary-data-based MR analysis and additional five two-sample MR methods. Subsequently, mediation analysis explored the potential mediate roles of 13 imaging-derived brain volume phenotypes in the associations between the DDR pathways and AD through a network MR design.ResultsWe found that the volumes of the right thalamus proper and global cerebral white matter mediated the causal pathways from EGFR to AD and relatively weak mediation effects of the right lateral ventricle volume in the causal pathways involving CHRNE, DNTT, and AD.ConclusionsWe identified causal relationships among DDR pathways, specific brain region volumes, and AD. Monitoring the molecular traits of these DDR-related genes and developing targeted drugs may help detect and interrupt the early progression of AD.\",\n",
       " 'pub_date': '2025-05-02',\n",
       " 'title': \"Identifying the mediating role of brain atrophy on the relationship between DNA damage repair pathway and Alzheimer's disease: A Mendelian randomization analysis and mediation analysis.\",\n",
       " 'journal_issn': '1875-8908',\n",
       " 'journal': \"Journal of Alzheimer's disease : JAD\",\n",
       " 'author_affil': 'Department of Rehabilitation Medicine, The First Affiliated Hospital, Jiangxi Medical College, Nanchang University, Nanchang, Jiangxi Province, China.'}"
      ]
     },
     "execution_count": 10,
     "metadata": {},
     "output_type": "execute_result"
    }
   ],
   "source": [
    "b[0]"
   ]
  },
  {
   "cell_type": "code",
   "execution_count": 17,
   "id": "35bca7dc",
   "metadata": {},
   "outputs": [
    {
     "name": "stdout",
     "output_type": "stream",
     "text": [
      "Number of batches: 22\n",
      "Processing batch 0 of 22\n",
      "Processing batch 1 of 22\n",
      "Processing batch 2 of 22\n",
      "Processing batch 3 of 22\n",
      "Processing batch 4 of 22\n",
      "Processing batch 5 of 22\n",
      "Processing batch 6 of 22\n",
      "Processing batch 7 of 22\n",
      "Processing batch 8 of 22\n",
      "Processing batch 9 of 22\n",
      "Processing batch 10 of 22\n",
      "Processing batch 11 of 22\n",
      "Processing batch 12 of 22\n",
      "Processing batch 13 of 22\n",
      "Processing batch 14 of 22\n",
      "Processing batch 15 of 22\n",
      "Processing batch 16 of 22\n",
      "Processing batch 17 of 22\n",
      "Processing batch 18 of 22\n",
      "Processing batch 19 of 22\n",
      "Processing batch 20 of 22\n",
      "Processing batch 21 of 22\n"
     ]
    }
   ],
   "source": [
    "def openai_prompt(abstract, pmid):\n",
    "    response = client.chat.completions.create(\n",
    "        model=\"gpt-3.5-turbo\",\n",
    "            messages=[{\"role\": \"system\", \"content\": \"You are a helpful assistant.\"},\n",
    "                    abstract4,\n",
    "                    prompt,\n",
    "                    example_output,\n",
    "                    {\"role\": \"user\", \"content\": bytes(abstract, 'utf-8').decode('utf-8', 'ignore')},\n",
    "                    prompt],\n",
    "    )\n",
    "    o = json.loads(response.choices[0].message.content)\n",
    "    o['pmid'] = pmid\n",
    "    return o\n",
    "\n",
    "def openai_prompt_abstract_batch(abstracts, jsonl_file_root, batch_size=500):\n",
    "    \"\"\"\n",
    "    abstracts: list of abstracts to process\n",
    "    jsonl_file_root: file to write the results to e.g. \"../data/abstract_processing_20250502\". <batch>.jsonl will be appended to this filename\n",
    "    batch_size: number of abstracts to process at once\n",
    "    \"\"\"\n",
    "    \n",
    "    # Get number of batches to generate\n",
    "    num_batches = len(abstracts) // batch_size + 1\n",
    "    print(\"Number of batches: {}\".format(num_batches))\n",
    "    batch_file_names = [\"{}.{}.jsonl\".format(jsonl_file_root, i) for i in range(num_batches)]\n",
    "    \n",
    "    for batch in range(num_batches):\n",
    "        # Get the batch of abstracts\n",
    "        start = batch * batch_size\n",
    "        end = min((batch + 1) * batch_size, len(abstracts))\n",
    "        print(\"Processing batch {} of {}\".format(batch, num_batches))\n",
    "        \n",
    "        # Create the jsonl file for this batch\n",
    "        jsonl_file = batch_file_names[batch]\n",
    "        \n",
    "        # Process the abstracts in this batch\n",
    "        with open(jsonl_file, \"w\") as f:\n",
    "            for i in range(start, end):\n",
    "                if 'ab' not in abstracts[i].keys():\n",
    "                    continue\n",
    "                \n",
    "                try:\n",
    "                    o = {\n",
    "                        'custom_id': abstracts[i]['pmid'], \n",
    "                        \"method\": \"POST\", \n",
    "                        \"url\": \"/v1/chat/completions\",\n",
    "                        \"body\": {\n",
    "                            \"model\": \"gpt-3.5-turbo\",\n",
    "                            \"messages\": [\n",
    "                                {\"role\": \"system\", \"content\": \"You are a helpful assistant.\"},\n",
    "                                abstract4,\n",
    "                                prompt,\n",
    "                                example_output,\n",
    "                                {\"role\": \"user\", \"content\": bytes(abstracts[i]['ab'], 'utf-8').decode('utf-8', 'ignore')},\n",
    "                                prompt,\n",
    "                            ],\n",
    "                            \"max_tokens\": 1000\n",
    "                        }\n",
    "                    }\n",
    "                    f.write(json.dumps(o) + \"\\n\")\n",
    "                except:\n",
    "                    print(\"Error processing abstract {}: {}\".format(abstracts[i]['pmid']))\n",
    "                    continue\n",
    "    return batch_file_names\n",
    "abstract_batches = openai_prompt_abstract_batch(b, \"../data/abstract_processing_20250502_batch\", batch_size=250)"
   ]
  },
  {
   "cell_type": "code",
   "execution_count": 19,
   "id": "e3759ef9",
   "metadata": {},
   "outputs": [
    {
     "data": {
      "text/plain": [
       "['../data/abstract_processing_20250502_batch.0.jsonl',\n",
       " '../data/abstract_processing_20250502_batch.1.jsonl',\n",
       " '../data/abstract_processing_20250502_batch.2.jsonl',\n",
       " '../data/abstract_processing_20250502_batch.3.jsonl',\n",
       " '../data/abstract_processing_20250502_batch.4.jsonl',\n",
       " '../data/abstract_processing_20250502_batch.5.jsonl',\n",
       " '../data/abstract_processing_20250502_batch.6.jsonl',\n",
       " '../data/abstract_processing_20250502_batch.7.jsonl',\n",
       " '../data/abstract_processing_20250502_batch.8.jsonl',\n",
       " '../data/abstract_processing_20250502_batch.9.jsonl',\n",
       " '../data/abstract_processing_20250502_batch.10.jsonl',\n",
       " '../data/abstract_processing_20250502_batch.11.jsonl',\n",
       " '../data/abstract_processing_20250502_batch.12.jsonl',\n",
       " '../data/abstract_processing_20250502_batch.13.jsonl',\n",
       " '../data/abstract_processing_20250502_batch.14.jsonl',\n",
       " '../data/abstract_processing_20250502_batch.15.jsonl',\n",
       " '../data/abstract_processing_20250502_batch.16.jsonl',\n",
       " '../data/abstract_processing_20250502_batch.17.jsonl',\n",
       " '../data/abstract_processing_20250502_batch.18.jsonl',\n",
       " '../data/abstract_processing_20250502_batch.19.jsonl',\n",
       " '../data/abstract_processing_20250502_batch.20.jsonl',\n",
       " '../data/abstract_processing_20250502_batch.21.jsonl']"
      ]
     },
     "execution_count": 19,
     "metadata": {},
     "output_type": "execute_result"
    }
   ],
   "source": [
    "abstract_batches"
   ]
  },
  {
   "cell_type": "code",
   "execution_count": 21,
   "id": "d0c5b3fb",
   "metadata": {},
   "outputs": [],
   "source": [
    "batch_input_file = []\n",
    "for i in range(len(abstract_batches)):\n",
    "    a = client.files.create(\n",
    "        file=open(abstract_batches[i], \"rb\"),\n",
    "        purpose=\"batch\"\n",
    "    )\n",
    "    batch_input_file.append(a)"
   ]
  },
  {
   "cell_type": "code",
   "execution_count": 23,
   "id": "8f1cf526",
   "metadata": {},
   "outputs": [
    {
     "data": {
      "text/plain": [
       "[FileObject(id='file-LAzWcGVpkEvwX4RDkFnYJM', bytes=2167887, created_at=1747602323, filename='abstract_processing_20250502_batch.0.jsonl', object='file', purpose='batch', status='processed', expires_at=None, status_details=None),\n",
       " FileObject(id='file-REpp1ZHrYj66LEsAPDPDUm', bytes=2183316, created_at=1747602324, filename='abstract_processing_20250502_batch.1.jsonl', object='file', purpose='batch', status='processed', expires_at=None, status_details=None),\n",
       " FileObject(id='file-NNbVJqWvuyoVigLRoX3FJh', bytes=2199272, created_at=1747602325, filename='abstract_processing_20250502_batch.2.jsonl', object='file', purpose='batch', status='processed', expires_at=None, status_details=None),\n",
       " FileObject(id='file-HKDqPe7hpf6JMUXNd31fzY', bytes=2203084, created_at=1747602326, filename='abstract_processing_20250502_batch.3.jsonl', object='file', purpose='batch', status='processed', expires_at=None, status_details=None),\n",
       " FileObject(id='file-D97Tta159FbPgjMm69ZU4v', bytes=2181130, created_at=1747602327, filename='abstract_processing_20250502_batch.4.jsonl', object='file', purpose='batch', status='processed', expires_at=None, status_details=None),\n",
       " FileObject(id='file-MUAaja6d1FY5LyDWF6f4x5', bytes=2160139, created_at=1747602328, filename='abstract_processing_20250502_batch.5.jsonl', object='file', purpose='batch', status='processed', expires_at=None, status_details=None),\n",
       " FileObject(id='file-QZQ33ZC8XXwXw9WPE7i9WY', bytes=2111457, created_at=1747602330, filename='abstract_processing_20250502_batch.6.jsonl', object='file', purpose='batch', status='processed', expires_at=None, status_details=None),\n",
       " FileObject(id='file-SViUigUvb3P9NuLdFCZ4qY', bytes=2033166, created_at=1747602330, filename='abstract_processing_20250502_batch.7.jsonl', object='file', purpose='batch', status='processed', expires_at=None, status_details=None),\n",
       " FileObject(id='file-HMekPZDDLEreGyFezNkcuD', bytes=2187185, created_at=1747602331, filename='abstract_processing_20250502_batch.8.jsonl', object='file', purpose='batch', status='processed', expires_at=None, status_details=None),\n",
       " FileObject(id='file-L3XTWbTvvqsAuw2gT5LApY', bytes=2270540, created_at=1747602332, filename='abstract_processing_20250502_batch.9.jsonl', object='file', purpose='batch', status='processed', expires_at=None, status_details=None),\n",
       " FileObject(id='file-UKBaDBB1ymDC5tMTbyMkGq', bytes=2192595, created_at=1747602333, filename='abstract_processing_20250502_batch.10.jsonl', object='file', purpose='batch', status='processed', expires_at=None, status_details=None),\n",
       " FileObject(id='file-TdRNoJEYUNx1orTsnUqvKx', bytes=2160127, created_at=1747602334, filename='abstract_processing_20250502_batch.11.jsonl', object='file', purpose='batch', status='processed', expires_at=None, status_details=None),\n",
       " FileObject(id='file-7EigcwvLNrCeVexmoaevEt', bytes=2194291, created_at=1747602335, filename='abstract_processing_20250502_batch.12.jsonl', object='file', purpose='batch', status='processed', expires_at=None, status_details=None),\n",
       " FileObject(id='file-GSh93ubUM9yjLwv9xxKJkw', bytes=2147178, created_at=1747602336, filename='abstract_processing_20250502_batch.13.jsonl', object='file', purpose='batch', status='processed', expires_at=None, status_details=None),\n",
       " FileObject(id='file-7VtLSYzvUGTsw6erupRyD6', bytes=2197615, created_at=1747602337, filename='abstract_processing_20250502_batch.14.jsonl', object='file', purpose='batch', status='processed', expires_at=None, status_details=None),\n",
       " FileObject(id='file-AyhLMjHxqCT6HbDdj2Gjy5', bytes=2196563, created_at=1747602337, filename='abstract_processing_20250502_batch.15.jsonl', object='file', purpose='batch', status='processed', expires_at=None, status_details=None),\n",
       " FileObject(id='file-3Z97JGWcjuiTXJNgouvBHz', bytes=2175438, created_at=1747602339, filename='abstract_processing_20250502_batch.16.jsonl', object='file', purpose='batch', status='processed', expires_at=None, status_details=None),\n",
       " FileObject(id='file-K4jRbFopfYiLGqZ9L1t8zR', bytes=2012376, created_at=1747602340, filename='abstract_processing_20250502_batch.17.jsonl', object='file', purpose='batch', status='processed', expires_at=None, status_details=None),\n",
       " FileObject(id='file-YCkSFVDE7DZfktHvRoLmmz', bytes=1506808, created_at=1747602341, filename='abstract_processing_20250502_batch.18.jsonl', object='file', purpose='batch', status='processed', expires_at=None, status_details=None),\n",
       " FileObject(id='file-7gnxhXGbT2ho3eT8n9TskE', bytes=1361699, created_at=1747602342, filename='abstract_processing_20250502_batch.19.jsonl', object='file', purpose='batch', status='processed', expires_at=None, status_details=None),\n",
       " FileObject(id='file-6RTRCgBnqgR64s3Krb7be9', bytes=1630251, created_at=1747602342, filename='abstract_processing_20250502_batch.20.jsonl', object='file', purpose='batch', status='processed', expires_at=None, status_details=None),\n",
       " FileObject(id='file-S9aKCGsvisQUQWfbpA5rkv', bytes=1070506, created_at=1747602343, filename='abstract_processing_20250502_batch.21.jsonl', object='file', purpose='batch', status='processed', expires_at=None, status_details=None)]"
      ]
     },
     "execution_count": 23,
     "metadata": {},
     "output_type": "execute_result"
    }
   ],
   "source": [
    "batch_input_file"
   ]
  },
  {
   "cell_type": "code",
   "execution_count": 24,
   "id": "05e5a7ff",
   "metadata": {},
   "outputs": [
    {
     "data": {
      "text/plain": [
       "[Batch(id='batch_682a4bcad0d481909107de2c9435a192', completion_window='24h', created_at=1747602378, endpoint='/v1/chat/completions', input_file_id='file-LAzWcGVpkEvwX4RDkFnYJM', object='batch', status='validating', cancelled_at=None, cancelling_at=None, completed_at=None, error_file_id=None, errors=None, expired_at=None, expires_at=1747688778, failed_at=None, finalizing_at=None, in_progress_at=None, metadata={'author processing': '20250502', 'batch': '0', 'batch_input_file': '../data/abstract_processing_20250502_batch.0.jsonl'}, output_file_id=None, request_counts=BatchRequestCounts(completed=0, failed=0, total=0)),\n",
       " Batch(id='batch_682a4bcb24348190a2cab509190ac5d4', completion_window='24h', created_at=1747602379, endpoint='/v1/chat/completions', input_file_id='file-REpp1ZHrYj66LEsAPDPDUm', object='batch', status='validating', cancelled_at=None, cancelling_at=None, completed_at=None, error_file_id=None, errors=None, expired_at=None, expires_at=1747688779, failed_at=None, finalizing_at=None, in_progress_at=None, metadata={'author processing': '20250502', 'batch': '1', 'batch_input_file': '../data/abstract_processing_20250502_batch.1.jsonl'}, output_file_id=None, request_counts=BatchRequestCounts(completed=0, failed=0, total=0)),\n",
       " Batch(id='batch_682a4bcb70b08190a234f9ad69d61767', completion_window='24h', created_at=1747602379, endpoint='/v1/chat/completions', input_file_id='file-NNbVJqWvuyoVigLRoX3FJh', object='batch', status='validating', cancelled_at=None, cancelling_at=None, completed_at=None, error_file_id=None, errors=None, expired_at=None, expires_at=1747688779, failed_at=None, finalizing_at=None, in_progress_at=None, metadata={'author processing': '20250502', 'batch': '2', 'batch_input_file': '../data/abstract_processing_20250502_batch.2.jsonl'}, output_file_id=None, request_counts=BatchRequestCounts(completed=0, failed=0, total=0)),\n",
       " Batch(id='batch_682a4bcc211c8190bb1e0e37645fcacd', completion_window='24h', created_at=1747602380, endpoint='/v1/chat/completions', input_file_id='file-HKDqPe7hpf6JMUXNd31fzY', object='batch', status='validating', cancelled_at=None, cancelling_at=None, completed_at=None, error_file_id=None, errors=None, expired_at=None, expires_at=1747688780, failed_at=None, finalizing_at=None, in_progress_at=None, metadata={'author processing': '20250502', 'batch': '3', 'batch_input_file': '../data/abstract_processing_20250502_batch.3.jsonl'}, output_file_id=None, request_counts=BatchRequestCounts(completed=0, failed=0, total=0)),\n",
       " Batch(id='batch_682a4bcc781c819090740e3483cfe993', completion_window='24h', created_at=1747602380, endpoint='/v1/chat/completions', input_file_id='file-D97Tta159FbPgjMm69ZU4v', object='batch', status='validating', cancelled_at=None, cancelling_at=None, completed_at=None, error_file_id=None, errors=None, expired_at=None, expires_at=1747688780, failed_at=None, finalizing_at=None, in_progress_at=None, metadata={'author processing': '20250502', 'batch': '4', 'batch_input_file': '../data/abstract_processing_20250502_batch.4.jsonl'}, output_file_id=None, request_counts=BatchRequestCounts(completed=0, failed=0, total=0)),\n",
       " Batch(id='batch_682a4bccc1908190a531695c7a687179', completion_window='24h', created_at=1747602380, endpoint='/v1/chat/completions', input_file_id='file-MUAaja6d1FY5LyDWF6f4x5', object='batch', status='validating', cancelled_at=None, cancelling_at=None, completed_at=None, error_file_id=None, errors=None, expired_at=None, expires_at=1747688780, failed_at=None, finalizing_at=None, in_progress_at=None, metadata={'author processing': '20250502', 'batch': '5', 'batch_input_file': '../data/abstract_processing_20250502_batch.5.jsonl'}, output_file_id=None, request_counts=BatchRequestCounts(completed=0, failed=0, total=0)),\n",
       " Batch(id='batch_682a4bcd28e88190816643dcab19df64', completion_window='24h', created_at=1747602381, endpoint='/v1/chat/completions', input_file_id='file-QZQ33ZC8XXwXw9WPE7i9WY', object='batch', status='validating', cancelled_at=None, cancelling_at=None, completed_at=None, error_file_id=None, errors=None, expired_at=None, expires_at=1747688781, failed_at=None, finalizing_at=None, in_progress_at=None, metadata={'author processing': '20250502', 'batch': '6', 'batch_input_file': '../data/abstract_processing_20250502_batch.6.jsonl'}, output_file_id=None, request_counts=BatchRequestCounts(completed=0, failed=0, total=0)),\n",
       " Batch(id='batch_682a4bcdb7dc81909d15feea4c74b7ce', completion_window='24h', created_at=1747602381, endpoint='/v1/chat/completions', input_file_id='file-SViUigUvb3P9NuLdFCZ4qY', object='batch', status='validating', cancelled_at=None, cancelling_at=None, completed_at=None, error_file_id=None, errors=None, expired_at=None, expires_at=1747688781, failed_at=None, finalizing_at=None, in_progress_at=None, metadata={'author processing': '20250502', 'batch': '7', 'batch_input_file': '../data/abstract_processing_20250502_batch.7.jsonl'}, output_file_id=None, request_counts=BatchRequestCounts(completed=0, failed=0, total=0)),\n",
       " Batch(id='batch_682a4bce2fc88190864daccc9791cbf8', completion_window='24h', created_at=1747602382, endpoint='/v1/chat/completions', input_file_id='file-HMekPZDDLEreGyFezNkcuD', object='batch', status='validating', cancelled_at=None, cancelling_at=None, completed_at=None, error_file_id=None, errors=None, expired_at=None, expires_at=1747688782, failed_at=None, finalizing_at=None, in_progress_at=None, metadata={'author processing': '20250502', 'batch': '8', 'batch_input_file': '../data/abstract_processing_20250502_batch.8.jsonl'}, output_file_id=None, request_counts=BatchRequestCounts(completed=0, failed=0, total=0)),\n",
       " Batch(id='batch_682a4bce83dc8190a24fbf4b2e7c42fd', completion_window='24h', created_at=1747602382, endpoint='/v1/chat/completions', input_file_id='file-L3XTWbTvvqsAuw2gT5LApY', object='batch', status='validating', cancelled_at=None, cancelling_at=None, completed_at=None, error_file_id=None, errors=None, expired_at=None, expires_at=1747688782, failed_at=None, finalizing_at=None, in_progress_at=None, metadata={'author processing': '20250502', 'batch': '9', 'batch_input_file': '../data/abstract_processing_20250502_batch.9.jsonl'}, output_file_id=None, request_counts=BatchRequestCounts(completed=0, failed=0, total=0)),\n",
       " Batch(id='batch_682a4bcf1f0881909c560d6aa91066a3', completion_window='24h', created_at=1747602383, endpoint='/v1/chat/completions', input_file_id='file-UKBaDBB1ymDC5tMTbyMkGq', object='batch', status='validating', cancelled_at=None, cancelling_at=None, completed_at=None, error_file_id=None, errors=None, expired_at=None, expires_at=1747688783, failed_at=None, finalizing_at=None, in_progress_at=None, metadata={'author processing': '20250502', 'batch': '10', 'batch_input_file': '../data/abstract_processing_20250502_batch.10.jsonl'}, output_file_id=None, request_counts=BatchRequestCounts(completed=0, failed=0, total=0)),\n",
       " Batch(id='batch_682a4bcf90848190aaaa547d17ddf111', completion_window='24h', created_at=1747602383, endpoint='/v1/chat/completions', input_file_id='file-TdRNoJEYUNx1orTsnUqvKx', object='batch', status='validating', cancelled_at=None, cancelling_at=None, completed_at=None, error_file_id=None, errors=None, expired_at=None, expires_at=1747688783, failed_at=None, finalizing_at=None, in_progress_at=None, metadata={'author processing': '20250502', 'batch': '11', 'batch_input_file': '../data/abstract_processing_20250502_batch.11.jsonl'}, output_file_id=None, request_counts=BatchRequestCounts(completed=0, failed=0, total=0)),\n",
       " Batch(id='batch_682a4bd04558819095ba53864691c76c', completion_window='24h', created_at=1747602384, endpoint='/v1/chat/completions', input_file_id='file-7EigcwvLNrCeVexmoaevEt', object='batch', status='validating', cancelled_at=None, cancelling_at=None, completed_at=None, error_file_id=None, errors=None, expired_at=None, expires_at=1747688784, failed_at=None, finalizing_at=None, in_progress_at=None, metadata={'author processing': '20250502', 'batch': '12', 'batch_input_file': '../data/abstract_processing_20250502_batch.12.jsonl'}, output_file_id=None, request_counts=BatchRequestCounts(completed=0, failed=0, total=0)),\n",
       " Batch(id='batch_682a4bd1137c81909bb63d48b3e821ac', completion_window='24h', created_at=1747602385, endpoint='/v1/chat/completions', input_file_id='file-GSh93ubUM9yjLwv9xxKJkw', object='batch', status='validating', cancelled_at=None, cancelling_at=None, completed_at=None, error_file_id=None, errors=None, expired_at=None, expires_at=1747688785, failed_at=None, finalizing_at=None, in_progress_at=None, metadata={'author processing': '20250502', 'batch': '13', 'batch_input_file': '../data/abstract_processing_20250502_batch.13.jsonl'}, output_file_id=None, request_counts=BatchRequestCounts(completed=0, failed=0, total=0)),\n",
       " Batch(id='batch_682a4bd162148190a175241bcb406b94', completion_window='24h', created_at=1747602385, endpoint='/v1/chat/completions', input_file_id='file-7VtLSYzvUGTsw6erupRyD6', object='batch', status='validating', cancelled_at=None, cancelling_at=None, completed_at=None, error_file_id=None, errors=None, expired_at=None, expires_at=1747688785, failed_at=None, finalizing_at=None, in_progress_at=None, metadata={'author processing': '20250502', 'batch': '14', 'batch_input_file': '../data/abstract_processing_20250502_batch.14.jsonl'}, output_file_id=None, request_counts=BatchRequestCounts(completed=0, failed=0, total=0)),\n",
       " Batch(id='batch_682a4bd24f248190a564c6bf4d611e7f', completion_window='24h', created_at=1747602386, endpoint='/v1/chat/completions', input_file_id='file-AyhLMjHxqCT6HbDdj2Gjy5', object='batch', status='validating', cancelled_at=None, cancelling_at=None, completed_at=None, error_file_id=None, errors=None, expired_at=None, expires_at=1747688786, failed_at=None, finalizing_at=None, in_progress_at=None, metadata={'author processing': '20250502', 'batch': '15', 'batch_input_file': '../data/abstract_processing_20250502_batch.15.jsonl'}, output_file_id=None, request_counts=BatchRequestCounts(completed=0, failed=0, total=0)),\n",
       " Batch(id='batch_682a4bd2b98c819089cf4246b96c6b53', completion_window='24h', created_at=1747602386, endpoint='/v1/chat/completions', input_file_id='file-3Z97JGWcjuiTXJNgouvBHz', object='batch', status='validating', cancelled_at=None, cancelling_at=None, completed_at=None, error_file_id=None, errors=None, expired_at=None, expires_at=1747688786, failed_at=None, finalizing_at=None, in_progress_at=None, metadata={'author processing': '20250502', 'batch': '16', 'batch_input_file': '../data/abstract_processing_20250502_batch.16.jsonl'}, output_file_id=None, request_counts=BatchRequestCounts(completed=0, failed=0, total=0)),\n",
       " Batch(id='batch_682a4bd3c1f08190942307d3965a4695', completion_window='24h', created_at=1747602387, endpoint='/v1/chat/completions', input_file_id='file-K4jRbFopfYiLGqZ9L1t8zR', object='batch', status='validating', cancelled_at=None, cancelling_at=None, completed_at=None, error_file_id=None, errors=None, expired_at=None, expires_at=1747688787, failed_at=None, finalizing_at=None, in_progress_at=None, metadata={'author processing': '20250502', 'batch': '17', 'batch_input_file': '../data/abstract_processing_20250502_batch.17.jsonl'}, output_file_id=None, request_counts=BatchRequestCounts(completed=0, failed=0, total=0)),\n",
       " Batch(id='batch_682a4bd41d7c819081a87637ec752fdf', completion_window='24h', created_at=1747602388, endpoint='/v1/chat/completions', input_file_id='file-YCkSFVDE7DZfktHvRoLmmz', object='batch', status='validating', cancelled_at=None, cancelling_at=None, completed_at=None, error_file_id=None, errors=None, expired_at=None, expires_at=1747688788, failed_at=None, finalizing_at=None, in_progress_at=None, metadata={'author processing': '20250502', 'batch': '18', 'batch_input_file': '../data/abstract_processing_20250502_batch.18.jsonl'}, output_file_id=None, request_counts=BatchRequestCounts(completed=0, failed=0, total=0)),\n",
       " Batch(id='batch_682a4bd4778c8190a9ef5e8bf7bf4d72', completion_window='24h', created_at=1747602388, endpoint='/v1/chat/completions', input_file_id='file-7gnxhXGbT2ho3eT8n9TskE', object='batch', status='validating', cancelled_at=None, cancelling_at=None, completed_at=None, error_file_id=None, errors=None, expired_at=None, expires_at=1747688788, failed_at=None, finalizing_at=None, in_progress_at=None, metadata={'author processing': '20250502', 'batch': '19', 'batch_input_file': '../data/abstract_processing_20250502_batch.19.jsonl'}, output_file_id=None, request_counts=BatchRequestCounts(completed=0, failed=0, total=0)),\n",
       " Batch(id='batch_682a4bd4dda08190bf7f45149889c8d2', completion_window='24h', created_at=1747602388, endpoint='/v1/chat/completions', input_file_id='file-6RTRCgBnqgR64s3Krb7be9', object='batch', status='validating', cancelled_at=None, cancelling_at=None, completed_at=None, error_file_id=None, errors=None, expired_at=None, expires_at=1747688788, failed_at=None, finalizing_at=None, in_progress_at=None, metadata={'author processing': '20250502', 'batch': '20', 'batch_input_file': '../data/abstract_processing_20250502_batch.20.jsonl'}, output_file_id=None, request_counts=BatchRequestCounts(completed=0, failed=0, total=0)),\n",
       " Batch(id='batch_682a4bd52c188190a3f7d76578d4d05c', completion_window='24h', created_at=1747602389, endpoint='/v1/chat/completions', input_file_id='file-S9aKCGsvisQUQWfbpA5rkv', object='batch', status='validating', cancelled_at=None, cancelling_at=None, completed_at=None, error_file_id=None, errors=None, expired_at=None, expires_at=1747688789, failed_at=None, finalizing_at=None, in_progress_at=None, metadata={'author processing': '20250502', 'batch': '21', 'batch_input_file': '../data/abstract_processing_20250502_batch.21.jsonl'}, output_file_id=None, request_counts=BatchRequestCounts(completed=0, failed=0, total=0))]"
      ]
     },
     "execution_count": 24,
     "metadata": {},
     "output_type": "execute_result"
    }
   ],
   "source": [
    "batches = []\n",
    "for i in range(len(batch_input_file)):\n",
    "    f = batch_input_file[i]\n",
    "    batch_input_file_id = f.id\n",
    "    a = client.batches.create(\n",
    "        input_file_id=batch_input_file_id,\n",
    "        endpoint=\"/v1/chat/completions\",\n",
    "        completion_window=\"24h\",\n",
    "        metadata={\n",
    "            \"author processing\": \"20250502\",\n",
    "            \"batch\": str(i),\n",
    "            \"batch_input_file\": abstract_batches[i]\n",
    "        }\n",
    "    )\n",
    "    batches.append(a)\n",
    "batches"
   ]
  },
  {
   "cell_type": "code",
   "execution_count": 26,
   "id": "c3102f78",
   "metadata": {},
   "outputs": [
    {
     "name": "stdout",
     "output_type": "stream",
     "text": [
      "Status: completed, Count: 2\n",
      "Status: finalizing, Count: 1\n",
      "Status: failed, Count: 19\n"
     ]
    }
   ],
   "source": [
    "def retrieve_batch_status(batches):\n",
    "    batch_status = []\n",
    "    results_files = []\n",
    "    for i in range(len(batches)):\n",
    "        batch = client.batches.retrieve(batches[i].id)\n",
    "        batch_status.append(batch)\n",
    "        results_files.append(batch.output_file_id)\n",
    "\n",
    "    # Count the number of batches in each status\n",
    "    status_count = {}\n",
    "    for status in batch_status:\n",
    "        if status.status not in status_count:\n",
    "            status_count[status.status] = 0\n",
    "        status_count[status.status] += 1\n",
    "    # Print the status count\n",
    "    for status, count in status_count.items():\n",
    "        print(f\"Status: {status}, Count: {count}\")\n",
    "    # Return results files if all batches are completed\n",
    "    if all(status.status == \"completed\" for status in batch_status):\n",
    "        return results_files\n",
    "    else:\n",
    "        return None\n",
    "\n",
    "batch_output_files = retrieve_batch_status(batches)\n",
    "batch_output_files\n"
   ]
  },
  {
   "cell_type": "code",
   "execution_count": 29,
   "id": "05ad3b93",
   "metadata": {},
   "outputs": [
    {
     "data": {
      "text/plain": [
       "{'id': 'batch_req_682a4bfe4a348190acb062877b24ef49',\n",
       " 'custom_id': '40313062',\n",
       " 'response': {'status_code': 200,\n",
       "  'request_id': 'bdfe7f385e4e3e7200bbbcfa2d1cef2a',\n",
       "  'body': {'id': 'chatcmpl-BYfV9p034t4ctxEy0W0fcr3AuGcVo',\n",
       "   'object': 'chat.completion',\n",
       "   'created': 1747602383,\n",
       "   'model': 'gpt-3.5-turbo-0125',\n",
       "   'choices': [{'index': 0,\n",
       "     'message': {'role': 'assistant',\n",
       "      'content': '{\\n    \"exposures\": [\\n        {\\n            \"id\": \"1\",\\n            \"trait\": \"DDR-related molecular traits\",\\n            \"category\": \"molecular\"\\n        }\\n    ],\\n    \"outcomes\": [\\n        {\\n            \"id\": \"1\",\\n            \"trait\": \"Alzheimer\\'s disease\",\\n            \"category\": \"mental disorder\"\\n        },\\n        {\\n            \"id\": \"2\",\\n            \"trait\": \"Volumetric brain regions (e.g., right thalamus proper, global cerebral white matter, right lateral ventricle)\",\\n            \"category\": \"disease of the nervous system\"\\n        }\\n    ],\\n    \"methods\": [\\n        \"two-sample mendelian randomization\",\\n        \"summary-data-based mendelian randomization\",\\n        \"network mendelian randomization\"\\n    ],\\n    \"results\": {\\n        \"null\": 0,\\n        \"non-null\": 4\\n    }\\n}',\n",
       "      'refusal': None,\n",
       "      'annotations': []},\n",
       "     'logprobs': None,\n",
       "     'finish_reason': 'stop'}],\n",
       "   'usage': {'prompt_tokens': 1926,\n",
       "    'completion_tokens': 187,\n",
       "    'total_tokens': 2113,\n",
       "    'prompt_tokens_details': {'cached_tokens': 0, 'audio_tokens': 0},\n",
       "    'completion_tokens_details': {'reasoning_tokens': 0,\n",
       "     'audio_tokens': 0,\n",
       "     'accepted_prediction_tokens': 0,\n",
       "     'rejected_prediction_tokens': 0}},\n",
       "   'service_tier': 'default',\n",
       "   'system_fingerprint': None}},\n",
       " 'error': None}"
      ]
     },
     "execution_count": 29,
     "metadata": {},
     "output_type": "execute_result"
    }
   ],
   "source": [
    "temp = client.files.content(\"file-LDiYEtLriBkQKiYcjXwewp\")\n",
    "temp = [json.loads(line) for line in temp.text.splitlines() if line]\n",
    "temp[0]"
   ]
  },
  {
   "cell_type": "code",
   "execution_count": 32,
   "id": "2766c49a",
   "metadata": {},
   "outputs": [
    {
     "name": "stdout",
     "output_type": "stream",
     "text": [
      "Checking batch 0...\n",
      "Batch 0 status: completed\n",
      "Checking batch 1...\n",
      "Batch 1 status: completed\n",
      "Checking batch 2...\n",
      "Batch 2 status: completed\n",
      "Checking batch 3...\n",
      "Batch 3 failed. Retrying...\n",
      "Checking batch 4...\n",
      "Batch 4 failed. Retrying...\n",
      "Checking batch 5...\n",
      "Batch 5 failed. Retrying...\n",
      "Checking batch 6...\n",
      "Batch 6 failed. Retrying...\n",
      "Checking batch 7...\n",
      "Batch 7 failed. Retrying...\n",
      "Checking batch 8...\n",
      "Batch 8 failed. Retrying...\n",
      "Checking batch 9...\n",
      "Batch 9 failed. Retrying...\n",
      "Checking batch 10...\n",
      "Batch 10 failed. Retrying...\n",
      "Checking batch 11...\n",
      "Batch 11 failed. Retrying...\n",
      "Checking batch 12...\n",
      "Batch 12 failed. Retrying...\n",
      "Checking batch 13...\n",
      "Batch 13 failed. Retrying...\n",
      "Checking batch 14...\n",
      "Batch 14 failed. Retrying...\n",
      "Checking batch 15...\n",
      "Batch 15 failed. Retrying...\n",
      "Checking batch 16...\n",
      "Batch 16 failed. Retrying...\n",
      "Checking batch 17...\n",
      "Batch 17 failed. Retrying...\n",
      "Checking batch 18...\n",
      "Batch 18 failed. Retrying...\n",
      "Checking batch 19...\n",
      "Batch 19 failed. Retrying...\n",
      "Checking batch 20...\n",
      "Batch 20 failed. Retrying...\n",
      "Checking batch 21...\n",
      "Batch 21 failed. Retrying...\n"
     ]
    },
    {
     "data": {
      "text/plain": [
       "[Batch(id='batch_682a4bcad0d481909107de2c9435a192', completion_window='24h', created_at=1747602378, endpoint='/v1/chat/completions', input_file_id='file-LAzWcGVpkEvwX4RDkFnYJM', object='batch', status='completed', cancelled_at=None, cancelling_at=None, completed_at=1747602443, error_file_id=None, errors=None, expired_at=None, expires_at=1747688778, failed_at=None, finalizing_at=1747602430, in_progress_at=1747602380, metadata={'author processing': '20250502', 'batch': '0', 'batch_input_file': '../data/abstract_processing_20250502_batch.0.jsonl'}, output_file_id='file-LDiYEtLriBkQKiYcjXwewp', request_counts=BatchRequestCounts(completed=236, failed=0, total=236)),\n",
       " Batch(id='batch_682a4bcb24348190a2cab509190ac5d4', completion_window='24h', created_at=1747602379, endpoint='/v1/chat/completions', input_file_id='file-REpp1ZHrYj66LEsAPDPDUm', object='batch', status='completed', cancelled_at=None, cancelling_at=None, completed_at=1747602516, error_file_id=None, errors=None, expired_at=None, expires_at=1747688779, failed_at=None, finalizing_at=1747602466, in_progress_at=1747602380, metadata={'author processing': '20250502', 'batch': '1', 'batch_input_file': '../data/abstract_processing_20250502_batch.1.jsonl'}, output_file_id='file-A5T2N9JPxnDQV79RBmFBCT', request_counts=BatchRequestCounts(completed=237, failed=0, total=237)),\n",
       " Batch(id='batch_682a4bcb70b08190a234f9ad69d61767', completion_window='24h', created_at=1747602379, endpoint='/v1/chat/completions', input_file_id='file-NNbVJqWvuyoVigLRoX3FJh', object='batch', status='completed', cancelled_at=None, cancelling_at=None, completed_at=1747602440, error_file_id=None, errors=None, expired_at=None, expires_at=1747688779, failed_at=None, finalizing_at=1747602429, in_progress_at=1747602381, metadata={'author processing': '20250502', 'batch': '2', 'batch_input_file': '../data/abstract_processing_20250502_batch.2.jsonl'}, output_file_id='file-FBGeqptBJRJzbTB2TZRWaj', request_counts=BatchRequestCounts(completed=238, failed=0, total=238)),\n",
       " Batch(id='batch_682a4eb559008190b2752db431109af8', completion_window='24h', created_at=1747603125, endpoint='/v1/chat/completions', input_file_id='file-HKDqPe7hpf6JMUXNd31fzY', object='batch', status='validating', cancelled_at=None, cancelling_at=None, completed_at=None, error_file_id=None, errors=None, expired_at=None, expires_at=1747689525, failed_at=None, finalizing_at=None, in_progress_at=None, metadata={'author processing': '20250502', 'batch': '3', 'batch_input_file': '../data/abstract_processing_20250502_batch.3.jsonl'}, output_file_id=None, request_counts=BatchRequestCounts(completed=0, failed=0, total=0)),\n",
       " Batch(id='batch_682a4eb5df5881909315cbc74f36e4cb', completion_window='24h', created_at=1747603125, endpoint='/v1/chat/completions', input_file_id='file-D97Tta159FbPgjMm69ZU4v', object='batch', status='validating', cancelled_at=None, cancelling_at=None, completed_at=None, error_file_id=None, errors=None, expired_at=None, expires_at=1747689525, failed_at=None, finalizing_at=None, in_progress_at=None, metadata={'author processing': '20250502', 'batch': '4', 'batch_input_file': '../data/abstract_processing_20250502_batch.4.jsonl'}, output_file_id=None, request_counts=BatchRequestCounts(completed=0, failed=0, total=0)),\n",
       " Batch(id='batch_682a4eb69258819084a15c0a99c1edfb', completion_window='24h', created_at=1747603126, endpoint='/v1/chat/completions', input_file_id='file-MUAaja6d1FY5LyDWF6f4x5', object='batch', status='validating', cancelled_at=None, cancelling_at=None, completed_at=None, error_file_id=None, errors=None, expired_at=None, expires_at=1747689526, failed_at=None, finalizing_at=None, in_progress_at=None, metadata={'author processing': '20250502', 'batch': '5', 'batch_input_file': '../data/abstract_processing_20250502_batch.5.jsonl'}, output_file_id=None, request_counts=BatchRequestCounts(completed=0, failed=0, total=0)),\n",
       " Batch(id='batch_682a4eb71a34819090c63a903c802d90', completion_window='24h', created_at=1747603127, endpoint='/v1/chat/completions', input_file_id='file-QZQ33ZC8XXwXw9WPE7i9WY', object='batch', status='validating', cancelled_at=None, cancelling_at=None, completed_at=None, error_file_id=None, errors=None, expired_at=None, expires_at=1747689527, failed_at=None, finalizing_at=None, in_progress_at=None, metadata={'author processing': '20250502', 'batch': '6', 'batch_input_file': '../data/abstract_processing_20250502_batch.6.jsonl'}, output_file_id=None, request_counts=BatchRequestCounts(completed=0, failed=0, total=0)),\n",
       " Batch(id='batch_682a4eb79680819090b3c83ca219bca4', completion_window='24h', created_at=1747603127, endpoint='/v1/chat/completions', input_file_id='file-SViUigUvb3P9NuLdFCZ4qY', object='batch', status='validating', cancelled_at=None, cancelling_at=None, completed_at=None, error_file_id=None, errors=None, expired_at=None, expires_at=1747689527, failed_at=None, finalizing_at=None, in_progress_at=None, metadata={'author processing': '20250502', 'batch': '7', 'batch_input_file': '../data/abstract_processing_20250502_batch.7.jsonl'}, output_file_id=None, request_counts=BatchRequestCounts(completed=0, failed=0, total=0)),\n",
       " Batch(id='batch_682a4eb817a88190b56572803c4cf8d3', completion_window='24h', created_at=1747603128, endpoint='/v1/chat/completions', input_file_id='file-HMekPZDDLEreGyFezNkcuD', object='batch', status='validating', cancelled_at=None, cancelling_at=None, completed_at=None, error_file_id=None, errors=None, expired_at=None, expires_at=1747689528, failed_at=None, finalizing_at=None, in_progress_at=None, metadata={'author processing': '20250502', 'batch': '8', 'batch_input_file': '../data/abstract_processing_20250502_batch.8.jsonl'}, output_file_id=None, request_counts=BatchRequestCounts(completed=0, failed=0, total=0)),\n",
       " Batch(id='batch_682a4eb899e4819083570affb990635c', completion_window='24h', created_at=1747603128, endpoint='/v1/chat/completions', input_file_id='file-L3XTWbTvvqsAuw2gT5LApY', object='batch', status='validating', cancelled_at=None, cancelling_at=None, completed_at=None, error_file_id=None, errors=None, expired_at=None, expires_at=1747689528, failed_at=None, finalizing_at=None, in_progress_at=None, metadata={'author processing': '20250502', 'batch': '9', 'batch_input_file': '../data/abstract_processing_20250502_batch.9.jsonl'}, output_file_id=None, request_counts=BatchRequestCounts(completed=0, failed=0, total=0)),\n",
       " Batch(id='batch_682a4eba1f348190b30f213b816c0867', completion_window='24h', created_at=1747603130, endpoint='/v1/chat/completions', input_file_id='file-UKBaDBB1ymDC5tMTbyMkGq', object='batch', status='validating', cancelled_at=None, cancelling_at=None, completed_at=None, error_file_id=None, errors=None, expired_at=None, expires_at=1747689530, failed_at=None, finalizing_at=None, in_progress_at=None, metadata={'author processing': '20250502', 'batch': '10', 'batch_input_file': '../data/abstract_processing_20250502_batch.10.jsonl'}, output_file_id=None, request_counts=BatchRequestCounts(completed=0, failed=0, total=0)),\n",
       " Batch(id='batch_682a4ebac6788190ba7d8fc874c27759', completion_window='24h', created_at=1747603130, endpoint='/v1/chat/completions', input_file_id='file-TdRNoJEYUNx1orTsnUqvKx', object='batch', status='validating', cancelled_at=None, cancelling_at=None, completed_at=None, error_file_id=None, errors=None, expired_at=None, expires_at=1747689530, failed_at=None, finalizing_at=None, in_progress_at=None, metadata={'author processing': '20250502', 'batch': '11', 'batch_input_file': '../data/abstract_processing_20250502_batch.11.jsonl'}, output_file_id=None, request_counts=BatchRequestCounts(completed=0, failed=0, total=0)),\n",
       " Batch(id='batch_682a4ebb91808190b9d19dc263ba871d', completion_window='24h', created_at=1747603131, endpoint='/v1/chat/completions', input_file_id='file-7EigcwvLNrCeVexmoaevEt', object='batch', status='validating', cancelled_at=None, cancelling_at=None, completed_at=None, error_file_id=None, errors=None, expired_at=None, expires_at=1747689531, failed_at=None, finalizing_at=None, in_progress_at=None, metadata={'author processing': '20250502', 'batch': '12', 'batch_input_file': '../data/abstract_processing_20250502_batch.12.jsonl'}, output_file_id=None, request_counts=BatchRequestCounts(completed=0, failed=0, total=0)),\n",
       " Batch(id='batch_682a4ebc2bb48190b62080ff7808c237', completion_window='24h', created_at=1747603132, endpoint='/v1/chat/completions', input_file_id='file-GSh93ubUM9yjLwv9xxKJkw', object='batch', status='validating', cancelled_at=None, cancelling_at=None, completed_at=None, error_file_id=None, errors=None, expired_at=None, expires_at=1747689532, failed_at=None, finalizing_at=None, in_progress_at=None, metadata={'author processing': '20250502', 'batch': '13', 'batch_input_file': '../data/abstract_processing_20250502_batch.13.jsonl'}, output_file_id=None, request_counts=BatchRequestCounts(completed=0, failed=0, total=0)),\n",
       " Batch(id='batch_682a4ebcbdac81909f83da35f40e2f1a', completion_window='24h', created_at=1747603132, endpoint='/v1/chat/completions', input_file_id='file-7VtLSYzvUGTsw6erupRyD6', object='batch', status='validating', cancelled_at=None, cancelling_at=None, completed_at=None, error_file_id=None, errors=None, expired_at=None, expires_at=1747689532, failed_at=None, finalizing_at=None, in_progress_at=None, metadata={'author processing': '20250502', 'batch': '14', 'batch_input_file': '../data/abstract_processing_20250502_batch.14.jsonl'}, output_file_id=None, request_counts=BatchRequestCounts(completed=0, failed=0, total=0)),\n",
       " Batch(id='batch_682a4ebd67b88190bed109c4768a0b98', completion_window='24h', created_at=1747603133, endpoint='/v1/chat/completions', input_file_id='file-AyhLMjHxqCT6HbDdj2Gjy5', object='batch', status='validating', cancelled_at=None, cancelling_at=None, completed_at=None, error_file_id=None, errors=None, expired_at=None, expires_at=1747689533, failed_at=None, finalizing_at=None, in_progress_at=None, metadata={'author processing': '20250502', 'batch': '15', 'batch_input_file': '../data/abstract_processing_20250502_batch.15.jsonl'}, output_file_id=None, request_counts=BatchRequestCounts(completed=0, failed=0, total=0)),\n",
       " Batch(id='batch_682a4ebdf0c881909ae06439f5f1c996', completion_window='24h', created_at=1747603133, endpoint='/v1/chat/completions', input_file_id='file-3Z97JGWcjuiTXJNgouvBHz', object='batch', status='validating', cancelled_at=None, cancelling_at=None, completed_at=None, error_file_id=None, errors=None, expired_at=None, expires_at=1747689533, failed_at=None, finalizing_at=None, in_progress_at=None, metadata={'author processing': '20250502', 'batch': '16', 'batch_input_file': '../data/abstract_processing_20250502_batch.16.jsonl'}, output_file_id=None, request_counts=BatchRequestCounts(completed=0, failed=0, total=0)),\n",
       " Batch(id='batch_682a4ebec6748190a542225f2f608784', completion_window='24h', created_at=1747603134, endpoint='/v1/chat/completions', input_file_id='file-K4jRbFopfYiLGqZ9L1t8zR', object='batch', status='validating', cancelled_at=None, cancelling_at=None, completed_at=None, error_file_id=None, errors=None, expired_at=None, expires_at=1747689534, failed_at=None, finalizing_at=None, in_progress_at=None, metadata={'author processing': '20250502', 'batch': '17', 'batch_input_file': '../data/abstract_processing_20250502_batch.17.jsonl'}, output_file_id=None, request_counts=BatchRequestCounts(completed=0, failed=0, total=0)),\n",
       " Batch(id='batch_682a4ebf50108190af476ed2ab27d89b', completion_window='24h', created_at=1747603135, endpoint='/v1/chat/completions', input_file_id='file-YCkSFVDE7DZfktHvRoLmmz', object='batch', status='validating', cancelled_at=None, cancelling_at=None, completed_at=None, error_file_id=None, errors=None, expired_at=None, expires_at=1747689535, failed_at=None, finalizing_at=None, in_progress_at=None, metadata={'author processing': '20250502', 'batch': '18', 'batch_input_file': '../data/abstract_processing_20250502_batch.18.jsonl'}, output_file_id=None, request_counts=BatchRequestCounts(completed=0, failed=0, total=0)),\n",
       " Batch(id='batch_682a4ec053e88190b2ed8d5e4253e203', completion_window='24h', created_at=1747603136, endpoint='/v1/chat/completions', input_file_id='file-7gnxhXGbT2ho3eT8n9TskE', object='batch', status='validating', cancelled_at=None, cancelling_at=None, completed_at=None, error_file_id=None, errors=None, expired_at=None, expires_at=1747689536, failed_at=None, finalizing_at=None, in_progress_at=None, metadata={'author processing': '20250502', 'batch': '19', 'batch_input_file': '../data/abstract_processing_20250502_batch.19.jsonl'}, output_file_id=None, request_counts=BatchRequestCounts(completed=0, failed=0, total=0)),\n",
       " Batch(id='batch_682a4ec0d67c81909f65c2aa0941206c', completion_window='24h', created_at=1747603136, endpoint='/v1/chat/completions', input_file_id='file-6RTRCgBnqgR64s3Krb7be9', object='batch', status='validating', cancelled_at=None, cancelling_at=None, completed_at=None, error_file_id=None, errors=None, expired_at=None, expires_at=1747689536, failed_at=None, finalizing_at=None, in_progress_at=None, metadata={'author processing': '20250502', 'batch': '20', 'batch_input_file': '../data/abstract_processing_20250502_batch.20.jsonl'}, output_file_id=None, request_counts=BatchRequestCounts(completed=0, failed=0, total=0)),\n",
       " Batch(id='batch_682a4ec16ff88190ad45b558225f3826', completion_window='24h', created_at=1747603137, endpoint='/v1/chat/completions', input_file_id='file-S9aKCGsvisQUQWfbpA5rkv', object='batch', status='validating', cancelled_at=None, cancelling_at=None, completed_at=None, error_file_id=None, errors=None, expired_at=None, expires_at=1747689537, failed_at=None, finalizing_at=None, in_progress_at=None, metadata={'author processing': '20250502', 'batch': '21', 'batch_input_file': '../data/abstract_processing_20250502_batch.21.jsonl'}, output_file_id=None, request_counts=BatchRequestCounts(completed=0, failed=0, total=0))]"
      ]
     },
     "execution_count": 32,
     "metadata": {},
     "output_type": "execute_result"
    }
   ],
   "source": [
    "# Find failed batches and retry them\n",
    "# If not failed, return the original batch\n",
    "# If failed, retry the batch and return the new batch\n",
    "def retry_failed_batches(batches):\n",
    "    batches_updated = []\n",
    "    for i in range(len(batches)):\n",
    "        print(f\"Checking batch {i}...\")\n",
    "        batch = client.batches.retrieve(batches[i].id)\n",
    "        status = batch.status\n",
    "        if status == \"failed\":\n",
    "            print(f\"Batch {i} failed. Retrying...\")\n",
    "            # Retry the batch\n",
    "            a = client.batches.create(\n",
    "                input_file_id=batch.input_file_id,\n",
    "                endpoint=\"/v1/chat/completions\",\n",
    "                completion_window=\"24h\",\n",
    "                metadata={\n",
    "                    \"author processing\": \"20250502\",\n",
    "                    \"batch\": str(i),\n",
    "                    \"batch_input_file\": batch.metadata['batch_input_file']\n",
    "                }\n",
    "            )\n",
    "            batches_updated.append(a)\n",
    "        else:\n",
    "            print(f\"Batch {i} status: {status}\")\n",
    "            batches_updated.append(batch)\n",
    "    return batches_updated\n",
    "batches2 = retry_failed_batches(batches)\n",
    "batches2"
   ]
  },
  {
   "cell_type": "code",
   "execution_count": 30,
   "id": "67cd2afb",
   "metadata": {},
   "outputs": [
    {
     "data": {
      "text/plain": [
       "Batch(id='batch_682a4bcad0d481909107de2c9435a192', completion_window='24h', created_at=1747602378, endpoint='/v1/chat/completions', input_file_id='file-LAzWcGVpkEvwX4RDkFnYJM', object='batch', status='validating', cancelled_at=None, cancelling_at=None, completed_at=None, error_file_id=None, errors=None, expired_at=None, expires_at=1747688778, failed_at=None, finalizing_at=None, in_progress_at=None, metadata={'author processing': '20250502', 'batch': '0', 'batch_input_file': '../data/abstract_processing_20250502_batch.0.jsonl'}, output_file_id=None, request_counts=BatchRequestCounts(completed=0, failed=0, total=0))"
      ]
     },
     "execution_count": 30,
     "metadata": {},
     "output_type": "execute_result"
    }
   ],
   "source": [
    "batches[0]"
   ]
  }
 ],
 "metadata": {
  "kernelspec": {
   "display_name": "mr-pubmed",
   "language": "python",
   "name": "python3"
  },
  "language_info": {
   "codemirror_mode": {
    "name": "ipython",
    "version": 3
   },
   "file_extension": ".py",
   "mimetype": "text/x-python",
   "name": "python",
   "nbconvert_exporter": "python",
   "pygments_lexer": "ipython3",
   "version": "3.12.10"
  }
 },
 "nbformat": 4,
 "nbformat_minor": 5
}
